{
  "nbformat": 4,
  "nbformat_minor": 0,
  "metadata": {
    "colab": {
      "provenance": [],
      "authorship_tag": "ABX9TyOTMTfe0fWBD6YsinuRK3/Z",
      "include_colab_link": true
    },
    "kernelspec": {
      "name": "python3",
      "display_name": "Python 3"
    },
    "language_info": {
      "name": "python"
    }
  },
  "cells": [
    {
      "cell_type": "markdown",
      "metadata": {
        "id": "view-in-github",
        "colab_type": "text"
      },
      "source": [
        "<a href=\"https://colab.research.google.com/github/JulioDuarteE/Simulacion/blob/main/Unidad2/Practica2.ipynb\" target=\"_parent\"><img src=\"https://colab.research.google.com/assets/colab-badge.svg\" alt=\"Open In Colab\"/></a>"
      ]
    },
    {
      "cell_type": "markdown",
      "source": [],
      "metadata": {
        "id": "5q2nztbCEeMO"
      }
    },
    {
      "cell_type": "markdown",
      "source": [],
      "metadata": {
        "id": "j1q_DlHTEhFk"
      }
    },
    {
      "cell_type": "markdown",
      "source": [
        "#Simulacion\n",
        "\n",
        "##Unidad 2\n",
        "\n",
        "###Practica 2. generar numeros aleatorios por el método congruencial lineal\n",
        "\n",
        "Mestro: Jose Gabriel Rodriguez Rivas\n",
        "\n",
        "Alumno(a): Duarte Espinoza Jose Julio\n",
        "\n",
        "Numero Control: 23041004"
      ],
      "metadata": {
        "id": "bdxDd3tWF3X4"
      }
    },
    {
      "cell_type": "code",
      "execution_count": 1,
      "metadata": {
        "colab": {
          "base_uri": "https://localhost:8080/"
        },
        "id": "BmRjPMdIEWH-",
        "outputId": "d0a965e7-8b29-40ab-a2d2-17df7b4a9f7a"
      },
      "outputs": [
        {
          "output_type": "stream",
          "name": "stdout",
          "text": [
            "Número 1: 0.2523451747838408\n",
            "Número 2: 0.08812504541128874\n",
            "Número 3: 0.5772811982315034\n",
            "Número 4: 0.22255426598712802\n",
            "Número 5: 0.37566019711084664\n",
            "Número 6: 0.02566390484571457\n",
            "Número 7: 0.4472812858875841\n",
            "Número 8: 0.1184600037522614\n",
            "Número 9: 0.8738137057516724\n",
            "Número 10: 0.9946342753246427\n",
            "Número 11: 0.8532027236651629\n",
            "Número 12: 0.49967672815546393\n",
            "Número 13: 0.6420009464491159\n",
            "Número 14: 0.8614561874419451\n",
            "Número 15: 0.5964697764720768\n",
            "Número 16: 0.0907501564361155\n",
            "Número 17: 0.14020979800261557\n",
            "Número 18: 0.950088276527822\n",
            "Número 19: 0.9245554457884282\n",
            "Número 20: 0.8894689562730491\n",
            "Número 21: 0.5505083699245006\n",
            "Número 22: 0.1805165521800518\n",
            "Número 23: 0.5500854735728353\n",
            "Número 24: 0.2589667965658009\n",
            "Número 25: 0.9431216625962406\n",
            "Número 26: 0.8215009802952409\n",
            "Número 27: 0.15529390866868198\n",
            "Número 28: 0.8293947107158601\n",
            "Número 29: 0.4669222899246961\n",
            "Número 30: 0.060704877600073814\n",
            "Número 31: 0.02245523571036756\n",
            "Número 32: 0.5372887724079192\n",
            "Número 33: 0.8299602644983679\n",
            "Número 34: 0.8453321186825633\n",
            "Número 35: 0.6809180665295571\n",
            "Número 36: 0.38075808389112353\n",
            "Número 37: 0.5856568452436477\n",
            "Número 38: 0.6963971555233002\n",
            "Número 39: 0.7113653940614313\n",
            "Número 40: 0.7186180767603219\n",
            "Número 41: 0.9902874475810677\n",
            "Número 42: 0.44975284952670336\n",
            "Número 43: 0.09792640875093639\n",
            "Número 44: 0.1915941252373159\n",
            "Número 45: 0.4473786160815507\n",
            "Número 46: 0.12700111605226994\n",
            "Número 47: 0.7687648774590343\n",
            "Número 48: 0.5937204719521105\n",
            "Número 49: 0.8046440596226603\n",
            "Número 50: 0.3894113814458251\n",
            "Número 51: 0.21576908486895263\n",
            "Número 52: 0.27205946622416377\n",
            "Número 53: 0.01908474904485047\n",
            "Número 54: 0.27797185257077217\n",
            "Número 55: 0.3339683373924345\n",
            "Número 56: 0.8828661148436368\n",
            "Número 57: 0.955878077307716\n",
            "Número 58: 0.1926985988393426\n",
            "Número 59: 0.8713010295759887\n",
            "Número 60: 0.5823229453526437\n",
            "Número 61: 0.33668108214624226\n",
            "Número 62: 0.31432744674384594\n",
            "Número 63: 0.12935927300713956\n",
            "Número 64: 0.9799701818265021\n",
            "Número 65: 0.10297273122705519\n",
            "Número 66: 0.9215136868879199\n",
            "Número 67: 0.8057350877206773\n",
            "Número 68: 0.43295623315498233\n",
            "Número 69: 0.7100602698046714\n",
            "Número 70: 0.3066645935177803\n",
            "Número 71: 0.1185931561049074\n",
            "Número 72: 0.5092334938235581\n",
            "Número 73: 0.11737463087774813\n",
            "Número 74: 0.2435297565534711\n",
            "Número 75: 0.6040951393079013\n",
            "Número 76: 0.6978244571946561\n",
            "Número 77: 0.4906799078453332\n",
            "Número 78: 0.20967422612011433\n",
            "Número 79: 0.22730055614374578\n",
            "Número 80: 0.6942831412889063\n",
            "Número 81: 0.8818218896631151\n",
            "Número 82: 0.8169594695791602\n",
            "Número 83: 0.6971692244987935\n",
            "Número 84: 0.8394768270663917\n",
            "Número 85: 0.401640658499673\n",
            "Número 86: 0.15315714105963707\n",
            "Número 87: 0.12629026523791254\n",
            "Número 88: 0.5398131092078984\n",
            "Número 89: 0.6516722498927265\n",
            "Número 90: 0.9878206634894013\n",
            "Número 91: 0.4259626686107367\n",
            "Número 92: 0.7470372593961656\n",
            "Número 93: 0.4302643754053861\n",
            "Número 94: 0.045539623126387596\n",
            "Número 95: 0.07725242315791547\n",
            "Número 96: 0.8257249020971358\n",
            "Número 97: 0.9787312077824026\n",
            "Número 98: 0.7997019765898585\n",
            "Número 99: 0.1686512071173638\n",
            "Número 100: 0.3865950028412044\n"
          ]
        }
      ],
      "source": [
        "def congruencial_lineal(semilla, a, c, m, n):\n",
        "    numeros = []\n",
        "    x = semilla\n",
        "    for _ in range(n):\n",
        "        x = (a * x + c) % m\n",
        "        numeros.append(x / m)  # Normalizamos el número al rango [0, 1)\n",
        "    return numeros\n",
        "\n",
        "# Parámetros del método congruencial lineal\n",
        "semilla = 42  # Semilla inicial\n",
        "a = 1664525   # Multiplicador\n",
        "c = 1013904223 # Incremento\n",
        "m = 2**32     # Módulo\n",
        "\n",
        "# Generar 100 números aleatorios\n",
        "numeros_aleatorios = congruencial_lineal(semilla, a, c, m, 100)\n",
        "\n",
        "# Imprimir los números generados\n",
        "for i, num in enumerate(numeros_aleatorios):\n",
        "    print(f\"Número {i+1}: {num}\")"
      ]
    }
  ]
}