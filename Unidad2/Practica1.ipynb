{
  "nbformat": 4,
  "nbformat_minor": 0,
  "metadata": {
    "colab": {
      "provenance": [],
      "authorship_tag": "ABX9TyN6DhxT27BRZZv/MN70ZvD8",
      "include_colab_link": true
    },
    "kernelspec": {
      "name": "python3",
      "display_name": "Python 3"
    },
    "language_info": {
      "name": "python"
    }
  },
  "cells": [
    {
      "cell_type": "markdown",
      "metadata": {
        "id": "view-in-github",
        "colab_type": "text"
      },
      "source": [
        "<a href=\"https://colab.research.google.com/github/JulioDuarteE/Simulacion/blob/main/Unidad2/Practica1.ipynb\" target=\"_parent\"><img src=\"https://colab.research.google.com/assets/colab-badge.svg\" alt=\"Open In Colab\"/></a>"
      ]
    },
    {
      "cell_type": "markdown",
      "source": [
        "# Simulacion\n",
        "\n",
        "## Unidad 2\n",
        "\n",
        "### Practica 1. Generacion de numeros aleratorios por el metodo de centros al cuadrado\n",
        "\n",
        "Maestro: Jose Gabriel Rodriguez Rivas\n",
        "\n",
        "Alumno: Duarte Espinoza Jose Julio"
      ],
      "metadata": {
        "id": "8mSaiknC3GDn"
      }
    },
    {
      "cell_type": "code",
      "source": [
        "semilla = 2005\n",
        "\n",
        "n= 4\n",
        "\n",
        "iteracciones = 100\n",
        "\n",
        "resulados = []\n",
        "\n",
        "for _ in range (interacciones):\n",
        "  #Elevar la semilla al cuadrado\n",
        "  cuadrado = str(semilla ** 2).zfill(2*n)\n",
        "\n",
        "  inicio = (len(cuadrado)-n )//2\n",
        "  semilla = int(cuadrado[inicio:inicio + n])\n",
        "  resulados.append(semilla)\n",
        "\n",
        "\n",
        " for i, numero in enumerate(resultados, 1 ):\n",
        "  print (f\"Numero alateorio {i}: {numero}\")\n",
        "\n",
        "\n",
        "\n"
      ],
      "metadata": {
        "colab": {
          "base_uri": "https://localhost:8080/",
          "height": 106
        },
        "id": "se6wUAFB2gIF",
        "outputId": "e6a6e1f3-ddab-44fe-afc8-986ed261dfc2"
      },
      "execution_count": 3,
      "outputs": [
        {
          "output_type": "error",
          "ename": "IndentationError",
          "evalue": "unindent does not match any outer indentation level (<tokenize>, line 18)",
          "traceback": [
            "\u001b[0;36m  File \u001b[0;32m\"<tokenize>\"\u001b[0;36m, line \u001b[0;32m18\u001b[0m\n\u001b[0;31m    for i, numero in enumerate(resultados, 1 ):\u001b[0m\n\u001b[0m    ^\u001b[0m\n\u001b[0;31mIndentationError\u001b[0m\u001b[0;31m:\u001b[0m unindent does not match any outer indentation level\n"
          ]
        }
      ]
    },
    {
      "cell_type": "code",
      "source": [],
      "metadata": {
        "id": "K0FiPLK94Faa"
      },
      "execution_count": null,
      "outputs": []
    }
  ]
}