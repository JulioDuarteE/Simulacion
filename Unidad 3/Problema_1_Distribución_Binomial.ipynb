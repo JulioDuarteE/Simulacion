{
  "nbformat": 4,
  "nbformat_minor": 0,
  "metadata": {
    "colab": {
      "provenance": [],
      "authorship_tag": "ABX9TyNaybsIJt+86KKdb4hsjJAa",
      "include_colab_link": true
    },
    "kernelspec": {
      "name": "python3",
      "display_name": "Python 3"
    },
    "language_info": {
      "name": "python"
    }
  },
  "cells": [
    {
      "cell_type": "markdown",
      "metadata": {
        "id": "view-in-github",
        "colab_type": "text"
      },
      "source": [
        "<a href=\"https://colab.research.google.com/github/JulioDuarteE/Simulacion/blob/main/Unidad%203/Problema_1_Distribuci%C3%B3n_Binomial.ipynb\" target=\"_parent\"><img src=\"https://colab.research.google.com/assets/colab-badge.svg\" alt=\"Open In Colab\"/></a>"
      ]
    },
    {
      "cell_type": "markdown",
      "source": [
        "\n",
        "#Simulacion\n",
        "##Unidad 3\n",
        "###Problema 1: Distribución Binomial\n",
        "###Maestro: Jose Gabriel Rodriguez Rivas\n",
        "###Alumno: Duarte Espinoza Jose Julio\n",
        "\n"
      ],
      "metadata": {
        "id": "Jr9jfhCFo7qP"
      }
    },
    {
      "cell_type": "code",
      "execution_count": 1,
      "metadata": {
        "colab": {
          "base_uri": "https://localhost:8080/"
        },
        "id": "TYAA-8LooxaR",
        "outputId": "13323963-99f7-4309-e04f-d32dc67080a5"
      },
      "outputs": [
        {
          "output_type": "stream",
          "name": "stdout",
          "text": [
            "Pedidos satisfechos cada día de la semana:\n",
            "Día 1: 16 pedidos satisfechos\n",
            "Día 2: 14 pedidos satisfechos\n",
            "Día 3: 16 pedidos satisfechos\n",
            "Día 4: 14 pedidos satisfechos\n",
            "Día 5: 15 pedidos satisfechos\n",
            "Día 6: 15 pedidos satisfechos\n",
            "Día 7: 13 pedidos satisfechos\n",
            "\n",
            "Estadísticas de la semana:\n",
            "Total de pedidos satisfechos: 103\n",
            "Promedio diario: 14.71\n",
            "Mínimo: 13\n",
            "Máximo: 16\n"
          ]
        }
      ],
      "source": [
        "import numpy as np\n",
        "\n",
        "# Parámetros de la distribución binomial\n",
        "n = 20  # número de pedidos por día\n",
        "p = 0.7  # probabilidad de éxito (cumplir un pedido)\n",
        "dias_semana = 7  # simular para una semana\n",
        "\n",
        "# Simulación para una semana\n",
        "pedidos_satisfechos = np.random.binomial(n, p, dias_semana)\n",
        "\n",
        "# Resultados\n",
        "print(\"Pedidos satisfechos cada día de la semana:\")\n",
        "for dia, cantidad in enumerate(pedidos_satisfechos, 1):\n",
        "    print(f\"Día {dia}: {cantidad} pedidos satisfechos\")\n",
        "\n",
        "# Estadísticas adicionales\n",
        "print(\"\\nEstadísticas de la semana:\")\n",
        "print(f\"Total de pedidos satisfechos: {sum(pedidos_satisfechos)}\")\n",
        "print(f\"Promedio diario: {np.mean(pedidos_satisfechos):.2f}\")\n",
        "print(f\"Mínimo: {np.min(pedidos_satisfechos)}\")\n",
        "print(f\"Máximo: {np.max(pedidos_satisfechos)}\")"
      ]
    }
  ]
}